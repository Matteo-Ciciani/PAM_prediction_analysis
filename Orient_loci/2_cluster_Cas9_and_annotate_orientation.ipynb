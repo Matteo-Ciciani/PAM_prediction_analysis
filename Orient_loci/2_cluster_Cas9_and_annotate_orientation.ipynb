{
 "cells": [
  {
   "cell_type": "markdown",
   "metadata": {},
   "source": [
    "# Filter matches and make clusters"
   ]
  },
  {
   "cell_type": "code",
   "execution_count": 1,
   "metadata": {},
   "outputs": [],
   "source": [
    "import os\n",
    "from Bio import Seq,SeqIO\n",
    "import pandas as pd\n",
    "import numpy as np\n",
    "import matplotlib.pyplot as plt\n",
    "from glob import glob\n",
    "from collections import Counter\n",
    "%matplotlib notebook"
   ]
  },
  {
   "cell_type": "markdown",
   "metadata": {},
   "source": [
    "## Read Cas9 table and clusters"
   ]
  },
  {
   "cell_type": "code",
   "execution_count": 2,
   "metadata": {},
   "outputs": [],
   "source": [
    "datadir = 'Cas9_tables'"
   ]
  },
  {
   "cell_type": "code",
   "execution_count": 3,
   "metadata": {},
   "outputs": [],
   "source": [
    "all_working_cas9 = pd.read_csv(os.path.join(datadir,\n",
    "    'all_new_working_Cas9_annotated.tsv'), sep='\\t', index_col=0)"
   ]
  },
  {
   "cell_type": "code",
   "execution_count": 4,
   "metadata": {},
   "outputs": [],
   "source": [
    "clustdir = 'Cas9_clustering'"
   ]
  },
  {
   "cell_type": "code",
   "execution_count": 5,
   "metadata": {},
   "outputs": [],
   "source": [
    "IDs = [100, 99, 98, 97, 96, 95]\n",
    "centroids = {ID:[rec.id for rec in SeqIO.parse(os.path.join(\n",
    "    clustdir, 'centroid_{}_new_working_cas9.faa'.format(ID)),\n",
    "    'fasta')] for ID in IDs}"
   ]
  },
  {
   "cell_type": "code",
   "execution_count": 6,
   "metadata": {},
   "outputs": [
    {
     "name": "stdout",
     "output_type": "stream",
     "text": [
      "100% ID: 27062 clusters\n",
      "99% ID: 14332 clusters\n",
      "98% ID: 10475 clusters\n",
      "97% ID: 8568 clusters\n",
      "96% ID: 7538 clusters\n",
      "95% ID: 6898 clusters\n"
     ]
    }
   ],
   "source": [
    "for ID in IDs:\n",
    "    print('{}% ID: {} clusters'.format(ID, len(centroids[ID])))"
   ]
  },
  {
   "cell_type": "code",
   "execution_count": 7,
   "metadata": {},
   "outputs": [],
   "source": [
    "clusters = {ID:[[rec.id for rec in SeqIO.parse(\n",
    "    cluster, 'fasta')] for cluster in glob(os.path.join(\n",
    "    clustdir, 'MSA{}/cluster_*'.format(ID)))] for ID in IDs}"
   ]
  },
  {
   "cell_type": "code",
   "execution_count": 8,
   "metadata": {},
   "outputs": [],
   "source": [
    "def get_centroid(seqid, centroids, clusters):\n",
    "    for cluster in clusters:\n",
    "        if seqid in cluster:\n",
    "            for c in cluster:\n",
    "                if c in centroids:\n",
    "                    return c"
   ]
  },
  {
   "cell_type": "code",
   "execution_count": 9,
   "metadata": {},
   "outputs": [],
   "source": [
    "all_working_cas9_oriented = {}\n",
    "for ID in IDs:\n",
    "    to_add = {'Cluster ID': [], 'Orientation': ['']*all_working_cas9.shape[0]}\n",
    "    for i in all_working_cas9.index:\n",
    "        seqid = all_working_cas9.loc[i, 'SeqID']\n",
    "        centroid = get_centroid(seqid, centroids[ID], clusters[ID])\n",
    "        to_add['Cluster ID'].append(centroid)\n",
    "    all_working_cas9_oriented[ID] = all_working_cas9.assign(**to_add)"
   ]
  },
  {
   "cell_type": "code",
   "execution_count": 10,
   "metadata": {},
   "outputs": [
    {
     "name": "stdout",
     "output_type": "stream",
     "text": [
      "Processing ID: 100\n",
      "Processing ID: 99\n",
      "Processing ID: 98\n",
      "Processing ID: 97\n",
      "Processing ID: 96\n",
      "Processing ID: 95\n"
     ]
    }
   ],
   "source": [
    "for ID in IDs:\n",
    "    print('Processing ID: {}'.format(ID))\n",
    "    for centroid in centroids[ID]:\n",
    "        # define centroid locus order\n",
    "        centroid_data = all_working_cas9[all_working_cas9['SeqID']==centroid]\n",
    "        centroid_cas9_start = centroid_data['Cas9_start'].iloc[0]\n",
    "        centroid_other_genes_start = {x.split(' ')[0][0:4]:int(\n",
    "            x.split(' ')[1]) for x in centroid_data[\n",
    "            'Other_genes'].iloc[0].split(';')}\n",
    "        centroid_locus_order = np.array([centroid_other_genes_start['Cas1'], \n",
    "            centroid_other_genes_start['Cas2'], centroid_cas9_start]).argsort()\n",
    "        \n",
    "        for seqid in all_working_cas9_oriented[ID][all_working_cas9_oriented[\n",
    "            ID]['Cluster ID']==centroid]['SeqID'].values:\n",
    "            seqid_data = all_working_cas9[all_working_cas9['SeqID']==seqid]\n",
    "            seqid_cas9_start = seqid_data['Cas9_start'].iloc[0]\n",
    "            seqid_other_genes_start = {x.split(' ')[0][0:4]:int(\n",
    "                x.split(' ')[1]) for x in seqid_data[\n",
    "                'Other_genes'].iloc[0].split(';')}\n",
    "            seqid_locus_order = np.array([seqid_other_genes_start['Cas1'], \n",
    "                seqid_other_genes_start['Cas2'], seqid_cas9_start]).argsort()\n",
    "            \n",
    "            if all(seqid_locus_order == centroid_locus_order):\n",
    "                orientation = '+'\n",
    "            elif all(seqid_locus_order == centroid_locus_order[::-1]):\n",
    "                orientation = '-'\n",
    "            else:\n",
    "                orientation = 'Not conserved'\n",
    "            \n",
    "            idx = seqid_data.index[0]\n",
    "            all_working_cas9_oriented[ID].loc[idx, 'Orientation'] = orientation"
   ]
  },
  {
   "cell_type": "code",
   "execution_count": 11,
   "metadata": {},
   "outputs": [],
   "source": [
    "for ID in IDs:\n",
    "    all_working_cas9_oriented[ID].to_csv(os.path.join(datadir,\n",
    "    'all_new_working_Cas9_clust_{}_oriented.tsv'.format(ID)), sep='\\t')"
   ]
  },
  {
   "cell_type": "code",
   "execution_count": 12,
   "metadata": {},
   "outputs": [
    {
     "name": "stdout",
     "output_type": "stream",
     "text": [
      "Counter({'+': 62420, '-': 29615, 'Not conserved': 52})\n",
      "Counter({'+': 54509, '-': 37511, 'Not conserved': 67})\n",
      "Counter({'+': 51857, '-': 40162, 'Not conserved': 68})\n",
      "Counter({'+': 52493, '-': 39530, 'Not conserved': 64})\n",
      "Counter({'+': 50512, '-': 41511, 'Not conserved': 64})\n",
      "Counter({'+': 51465, '-': 40558, 'Not conserved': 64})\n"
     ]
    }
   ],
   "source": [
    "for ID in IDs:\n",
    "    print(Counter(all_working_cas9_oriented[ID]['Orientation'].values))"
   ]
  },
  {
   "cell_type": "markdown",
   "metadata": {},
   "source": [
    "## Fix bad centroids"
   ]
  },
  {
   "cell_type": "code",
   "execution_count": 15,
   "metadata": {},
   "outputs": [
    {
     "name": "stdout",
     "output_type": "stream",
     "text": [
      "Processing ID: 100\n",
      "Processing ID: 99\n",
      "Processing ID: 98\n",
      "Processing ID: 97\n",
      "Processing ID: 96\n",
      "Processing ID: 95\n"
     ]
    }
   ],
   "source": [
    "perc_not_conserved = {}\n",
    "number_not_conserved = {}\n",
    "total_seqids = {}\n",
    "for ID in IDs:\n",
    "    print('Processing ID: {}'.format(ID))\n",
    "    perc_not_conserved[ID] = []\n",
    "    number_not_conserved[ID] = []\n",
    "    total_seqids[ID] = []\n",
    "    for centroid in centroids[ID]:\n",
    "        orientations = all_working_cas9_oriented[ID][all_working_cas9_oriented[\n",
    "            ID]['Cluster ID']==centroid]['Orientation']\n",
    "        perc_not_conserved[ID].append(\n",
    "            (sum(orientations=='Not conserved')/len(orientations)))\n",
    "        number_not_conserved[ID].append(sum(orientations=='Not conserved'))\n",
    "        total_seqids[ID].append(len(orientations))"
   ]
  },
  {
   "cell_type": "code",
   "execution_count": 16,
   "metadata": {},
   "outputs": [],
   "source": [
    "perc_not_conserved_df = {}\n",
    "for ID in IDs:\n",
    "    perc_not_conserved_df[ID] = pd.DataFrame({'% NC':perc_not_conserved[ID],\n",
    "        '# NC':number_not_conserved[ID], 'Total':total_seqids[ID]},\n",
    "        index=centroids[ID])"
   ]
  },
  {
   "cell_type": "code",
   "execution_count": 17,
   "metadata": {},
   "outputs": [],
   "source": [
    "many_not_conserved = {ID:perc_not_conserved_df[ID][\n",
    "    perc_not_conserved_df[ID]['% NC']>0.5] for ID in IDs}"
   ]
  },
  {
   "cell_type": "code",
   "execution_count": 18,
   "metadata": {},
   "outputs": [],
   "source": [
    "bad_centroids = {ID:many_not_conserved[ID][\n",
    "    many_not_conserved[ID]['Total']>3].index for ID in IDs}"
   ]
  },
  {
   "cell_type": "markdown",
   "metadata": {},
   "source": [
    "For each bad cluster, get the centroid that generates the largest number of loci with conserved orientation."
   ]
  },
  {
   "cell_type": "code",
   "execution_count": 20,
   "metadata": {},
   "outputs": [],
   "source": [
    "bad_orientations = {}\n",
    "for ID in IDs:\n",
    "    bad_orientations[ID] = {}\n",
    "    for centroid in bad_centroids[ID]:\n",
    "        bad_orientations[ID][centroid] = {}\n",
    "        for seqid in all_working_cas9_oriented[ID][all_working_cas9_oriented[ID][\n",
    "            'Cluster ID']==centroid]['SeqID'].values:\n",
    "            seqid_data = all_working_cas9[all_working_cas9['SeqID']==seqid]\n",
    "            seqid_cas9_start = seqid_data['Cas9_start'].iloc[0]\n",
    "            seqid_other_genes_start = {x.split(' ')[0][0:4]:int(\n",
    "                x.split(' ')[1]) for x in seqid_data[\n",
    "                'Other_genes'].iloc[0].split(';')}\n",
    "            seqid_locus_order = np.array([seqid_other_genes_start['Cas1'], \n",
    "                seqid_other_genes_start['Cas2'], seqid_cas9_start]).argsort()\n",
    "            bad_orientations[ID][centroid][seqid] = seqid_locus_order"
   ]
  },
  {
   "cell_type": "code",
   "execution_count": 21,
   "metadata": {},
   "outputs": [],
   "source": [
    "new_centroids = {}\n",
    "for ID in IDs:\n",
    "    new_centroids[ID] = {}\n",
    "    for old_centroid in bad_orientations[ID]:\n",
    "        new_centroid = None\n",
    "        number_conserved_loci = 0\n",
    "        for seqid in bad_orientations[ID][old_centroid]:\n",
    "            base_o = bad_orientations[ID][old_centroid][seqid]\n",
    "            new_number_conserved_loci = sum([all(o==base_o) or all(\n",
    "                o==base_o[::-1]) for o in bad_orientations[ID][\n",
    "                old_centroid].values()])\n",
    "            if new_number_conserved_loci > number_conserved_loci:\n",
    "                new_centroid = seqid\n",
    "                number_conserved_loci = new_number_conserved_loci\n",
    "        new_centroids[ID][old_centroid] = new_centroid"
   ]
  },
  {
   "cell_type": "code",
   "execution_count": 22,
   "metadata": {},
   "outputs": [],
   "source": [
    "# define new orientations\n",
    "new_orientations = {}\n",
    "for ID in IDs:\n",
    "    new_orientations[ID] = {}\n",
    "    for old_centroid in bad_orientations[ID]:\n",
    "        new_orientations[ID][old_centroid] = {}\n",
    "        new_centroid = new_centroids[ID][old_centroid]\n",
    "        new_centroid_locus_order = bad_orientations[ID][old_centroid][new_centroid]\n",
    "        \n",
    "        for seqid in bad_orientations[ID][old_centroid]:\n",
    "            seqid_orientation = bad_orientations[ID][old_centroid][seqid]\n",
    "            \n",
    "            if all(new_centroid_locus_order == seqid_orientation):\n",
    "                orientation = '+'\n",
    "            elif all(new_centroid_locus_order == seqid_orientation[::-1]):\n",
    "                orientation = '-'\n",
    "            else:\n",
    "                orientation = 'Not conserved'\n",
    "            \n",
    "            new_orientations[ID][old_centroid][seqid] = orientation"
   ]
  },
  {
   "cell_type": "code",
   "execution_count": 23,
   "metadata": {},
   "outputs": [],
   "source": [
    "for ID in IDs:\n",
    "    for old_centroid in new_orientations[ID]:\n",
    "        for seqid in new_orientations[ID][old_centroid]:\n",
    "            idx = all_working_cas9_oriented[ID][\n",
    "                all_working_cas9_oriented[ID]['SeqID']==seqid].index[0]\n",
    "            all_working_cas9_oriented[ID].loc[idx, 'Cluster ID'] = new_centroids[\n",
    "                ID][old_centroid]\n",
    "            all_working_cas9_oriented[ID].loc[idx,\n",
    "                'Orientation'] = new_orientations[ID][old_centroid][seqid]"
   ]
  },
  {
   "cell_type": "code",
   "execution_count": 24,
   "metadata": {},
   "outputs": [
    {
     "name": "stdout",
     "output_type": "stream",
     "text": [
      "Counter({'+': 62439, '-': 29613, 'Not conserved': 35})\n",
      "Counter({'+': 54519, '-': 37518, 'Not conserved': 50})\n",
      "Counter({'+': 51866, '-': 40169, 'Not conserved': 52})\n",
      "Counter({'+': 52498, '-': 39537, 'Not conserved': 52})\n",
      "Counter({'+': 50517, '-': 41518, 'Not conserved': 52})\n",
      "Counter({'+': 51470, '-': 40565, 'Not conserved': 52})\n"
     ]
    }
   ],
   "source": [
    "for ID in IDs:\n",
    "    print(Counter(all_working_cas9_oriented[ID]['Orientation'].values))"
   ]
  },
  {
   "cell_type": "code",
   "execution_count": 25,
   "metadata": {},
   "outputs": [],
   "source": [
    "for ID in IDs:\n",
    "    all_working_cas9_oriented[ID].to_csv(os.path.join(datadir,\n",
    "    'all_new_working_Cas9_clust_{}_oriented.tsv'.format(ID)), sep='\\t')"
   ]
  },
  {
   "cell_type": "code",
   "execution_count": 37,
   "metadata": {},
   "outputs": [
    {
     "name": "stdout",
     "output_type": "stream",
     "text": [
      "100% identity clustering: 99.96 loci with conserved orientation\n",
      "99% identity clustering: 99.95 loci with conserved orientation\n",
      "98% identity clustering: 99.94 loci with conserved orientation\n",
      "97% identity clustering: 99.94 loci with conserved orientation\n",
      "96% identity clustering: 99.94 loci with conserved orientation\n",
      "95% identity clustering: 99.94 loci with conserved orientation\n"
     ]
    }
   ],
   "source": [
    "for ID in IDs:\n",
    "    conserved = sum(all_working_cas9_oriented[ID][\n",
    "        'Orientation']!='Not conserved')/all_working_cas9_oriented[ID].shape[0]\n",
    "    print('{}% identity clustering: {:.2f} loci with conserved orientation'.format(\n",
    "        ID, conserved*100))"
   ]
  },
  {
   "cell_type": "code",
   "execution_count": null,
   "metadata": {},
   "outputs": [],
   "source": []
  }
 ],
 "metadata": {
  "kernelspec": {
   "display_name": "Python 3",
   "language": "python",
   "name": "python3"
  },
  "language_info": {
   "codemirror_mode": {
    "name": "ipython",
    "version": 3
   },
   "file_extension": ".py",
   "mimetype": "text/x-python",
   "name": "python",
   "nbconvert_exporter": "python",
   "pygments_lexer": "ipython3",
   "version": "3.7.8"
  }
 },
 "nbformat": 4,
 "nbformat_minor": 4
}
