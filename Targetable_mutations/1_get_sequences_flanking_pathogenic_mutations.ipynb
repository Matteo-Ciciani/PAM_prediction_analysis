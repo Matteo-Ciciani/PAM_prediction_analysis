{
 "cells": [
  {
   "cell_type": "markdown",
   "metadata": {},
   "source": [
    "# Count targetable sites"
   ]
  },
  {
   "cell_type": "code",
   "execution_count": 1,
   "metadata": {},
   "outputs": [],
   "source": [
    "import os\n",
    "import sys\n",
    "import glob\n",
    "import shutil\n",
    "import numpy as np\n",
    "import subprocess as sbp\n",
    "import pandas as pd\n",
    "from Bio import Seq, SeqIO\n",
    "import logomaker\n",
    "import itertools\n",
    "import matplotlib.pyplot as plt\n",
    "from collections import Counter\n",
    "from Bio import SearchIO\n",
    "import math\n",
    "from scipy import stats\n",
    "from matplotlib import cm\n",
    "from matplotlib import colors\n",
    "import matplotlib.patches as mpatches\n",
    "import multiprocessing as mp\n",
    "from Bio import Phylo\n",
    "import matplotlib.image as image\n",
    "from Bio import Phylo\n",
    "%matplotlib notebook"
   ]
  },
  {
   "cell_type": "markdown",
   "metadata": {},
   "source": [
    "## ClinVar data"
   ]
  },
  {
   "cell_type": "code",
   "execution_count": 2,
   "metadata": {},
   "outputs": [],
   "source": [
    "clinvar_data = pd.read_csv('variant_summary.txt', sep='\\t', dtype=str)"
   ]
  },
  {
   "cell_type": "code",
   "execution_count": 3,
   "metadata": {},
   "outputs": [],
   "source": [
    "pathogenic_tags = ['Pathogenic', 'Likely pathogenic', 'Pathogenic/Likely pathogenic',\n",
    "                   'Likely pathogenic, risk factor', 'Pathogenic, risk factor',\n",
    "                   'Likely pathogenic, Affects', 'Pathogenic/Likely pathogenic, risk factor',\n",
    "                   'Pathogenic, Affects', 'Pathogenic/Likely pathogenic, drug response',\n",
    "                   'Pathogenic, drug response', 'Pathogenic, association', 'Pathogenic, other',\n",
    "                   'Likely pathogenic, other', 'Pathogenic, protective',\n",
    "                   'Pathogenic, drug response, other', 'Pathogenic/Likely pathogenic, other',\n",
    "                   'Pathogenic, association, protective', 'Likely pathogenic, drug response',\n",
    "                   'Pathogenic, confers sensitivity']"
   ]
  },
  {
   "cell_type": "code",
   "execution_count": 4,
   "metadata": {},
   "outputs": [],
   "source": [
    "clinvar_pathogenic = clinvar_data[[x in pathogenic_tags for x in clinvar_data[\n",
    "    'ClinicalSignificance'].values]]"
   ]
  },
  {
   "cell_type": "code",
   "execution_count": 5,
   "metadata": {},
   "outputs": [],
   "source": [
    "clinvar_pathogenic_known_pos = clinvar_pathogenic[clinvar_pathogenic['Start']!='-1']"
   ]
  },
  {
   "cell_type": "code",
   "execution_count": 6,
   "metadata": {},
   "outputs": [],
   "source": [
    "clinvar_pathogenic_known_pos = clinvar_pathogenic_known_pos.assign(Length=clinvar_pathogenic_known_pos[\n",
    "    'Stop'].apply(int)-clinvar_pathogenic_known_pos['Start'].apply(int))"
   ]
  },
  {
   "cell_type": "code",
   "execution_count": 7,
   "metadata": {},
   "outputs": [],
   "source": [
    "type_tags = ['Indel', 'Deletion', 'single nucleotide variant', 'Insertion']"
   ]
  },
  {
   "cell_type": "code",
   "execution_count": 8,
   "metadata": {},
   "outputs": [],
   "source": [
    "clinvar_selected_type = clinvar_pathogenic_known_pos[\n",
    "    [x in type_tags for x in clinvar_pathogenic_known_pos['Type'].values]]"
   ]
  },
  {
   "cell_type": "code",
   "execution_count": 9,
   "metadata": {},
   "outputs": [],
   "source": [
    "clinvar_selected_type = clinvar_selected_type[clinvar_selected_type['Assembly']!='NCBI36']"
   ]
  },
  {
   "cell_type": "code",
   "execution_count": 10,
   "metadata": {},
   "outputs": [
    {
     "data": {
      "text/plain": [
       "(277788, 35)"
      ]
     },
     "execution_count": 10,
     "metadata": {},
     "output_type": "execute_result"
    }
   ],
   "source": [
    "clinvar_selected_type.shape"
   ]
  },
  {
   "cell_type": "markdown",
   "metadata": {},
   "source": [
    "## Read genomes"
   ]
  },
  {
   "cell_type": "code",
   "execution_count": 11,
   "metadata": {},
   "outputs": [],
   "source": [
    "GRCh37_file = 'Homo_sapiens_assembly19.fasta'"
   ]
  },
  {
   "cell_type": "code",
   "execution_count": 12,
   "metadata": {},
   "outputs": [],
   "source": [
    "GRCh37 = {rec.id:rec for rec in SeqIO.parse(GRCh37_file, 'fasta')}"
   ]
  },
  {
   "cell_type": "code",
   "execution_count": 13,
   "metadata": {},
   "outputs": [],
   "source": [
    "GRCh38_file = 'hg38.fa'"
   ]
  },
  {
   "cell_type": "code",
   "execution_count": 14,
   "metadata": {},
   "outputs": [],
   "source": [
    "GRCh38 = {rec.id:rec for rec in SeqIO.parse(GRCh38_file, 'fasta')}"
   ]
  },
  {
   "cell_type": "code",
   "execution_count": 15,
   "metadata": {},
   "outputs": [],
   "source": [
    "assemblies = {'GRCh37':GRCh37, 'GRCh38':GRCh38}"
   ]
  },
  {
   "cell_type": "markdown",
   "metadata": {},
   "source": [
    "## Get mutation flanking sequences"
   ]
  },
  {
   "cell_type": "code",
   "execution_count": 22,
   "metadata": {},
   "outputs": [],
   "source": [
    "flank_len = 35"
   ]
  },
  {
   "cell_type": "code",
   "execution_count": 23,
   "metadata": {},
   "outputs": [],
   "source": [
    "upstream, downstream = [], []\n",
    "for n,i in enumerate(clinvar_selected_type.index):\n",
    "    mut_type = clinvar_selected_type.loc[i, 'Type']\n",
    "    chrm = clinvar_selected_type.loc[i, 'Chromosome']\n",
    "    assembly = clinvar_selected_type.loc[i, 'Assembly']\n",
    "    if assembly == 'GRCh38':\n",
    "        chrm = 'chr' + (chrm if chrm!='MT' else 'M')\n",
    "    start = int(clinvar_selected_type.loc[i, 'Start'])-1 # data is 1-indexed\n",
    "    if mut_type == 'Deletion':\n",
    "        start -= 1 # deletions are indexed wierdly, must subtract 2 from start in table\n",
    "    end = int(clinvar_selected_type.loc[i, 'Stop'])\n",
    "    down = assemblies[assembly][chrm][end:end+flank_len]\n",
    "    up = assemblies[assembly][chrm][start-flank_len:start]\n",
    "    upstream.append(up.seq)\n",
    "    downstream.append(down.seq)"
   ]
  },
  {
   "cell_type": "code",
   "execution_count": 24,
   "metadata": {},
   "outputs": [],
   "source": [
    "clinvar_selected_type = clinvar_selected_type.assign(**{'Downstream':[str(x) for x in downstream],\n",
    "                                                        'Upstream':[str(x) for x in upstream]})"
   ]
  },
  {
   "cell_type": "markdown",
   "metadata": {},
   "source": [
    "## Remove redundant info"
   ]
  },
  {
   "cell_type": "code",
   "execution_count": 25,
   "metadata": {},
   "outputs": [],
   "source": [
    "index_to_keep = []\n",
    "already_in = set()\n",
    "for i in clinvar_selected_type.index:\n",
    "    alleleID = clinvar_selected_type.loc[i, '#AlleleID']\n",
    "    if alleleID not in already_in:\n",
    "        already_in.add(alleleID)\n",
    "        index_to_keep.append(i)"
   ]
  },
  {
   "cell_type": "code",
   "execution_count": 26,
   "metadata": {},
   "outputs": [],
   "source": [
    "clinvar_selected_type_unique = clinvar_selected_type.loc[index_to_keep]"
   ]
  },
  {
   "cell_type": "code",
   "execution_count": 27,
   "metadata": {},
   "outputs": [],
   "source": [
    "clinvar_selected_type_unique.to_csv('filtered_variant_summary_35_nt.tsv', sep='\\t')"
   ]
  },
  {
   "cell_type": "code",
   "execution_count": null,
   "metadata": {},
   "outputs": [],
   "source": []
  }
 ],
 "metadata": {
  "kernelspec": {
   "display_name": "Python 3",
   "language": "python",
   "name": "python3"
  },
  "language_info": {
   "codemirror_mode": {
    "name": "ipython",
    "version": 3
   },
   "file_extension": ".py",
   "mimetype": "text/x-python",
   "name": "python",
   "nbconvert_exporter": "python",
   "pygments_lexer": "ipython3",
   "version": "3.7.8"
  }
 },
 "nbformat": 4,
 "nbformat_minor": 4
}
